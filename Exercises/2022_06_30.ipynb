{
 "cells": [
  {
   "cell_type": "code",
   "execution_count": 27,
   "metadata": {},
   "outputs": [],
   "source": [
    "import numpy as np\n",
    "import pandas as pd\n",
    "from sklearn.impute import SimpleImputer\n",
    "from sklearn.tree import DecisionTreeClassifier\n",
    "from sklearn.neighbors import KNeighborsClassifier\n",
    "from sklearn.model_selection import GridSearchCV, train_test_split\n",
    "from sklearn.metrics import confusion_matrix, f1_score, cohen_kappa_score\n",
    "import warnings\n",
    "warnings.filterwarnings('ignore')\n",
    "%matplotlib inline\n",
    "\n",
    "random_state = 42\n",
    "np.random.seed(random_state)\n",
    "filename = './datasets/horse-colic.csv'"
   ]
  },
  {
   "attachments": {},
   "cell_type": "markdown",
   "metadata": {},
   "source": [
    "# 1"
   ]
  },
  {
   "cell_type": "code",
   "execution_count": 28,
   "metadata": {},
   "outputs": [
    {
     "data": {
      "text/html": [
       "<div>\n",
       "<style scoped>\n",
       "    .dataframe tbody tr th:only-of-type {\n",
       "        vertical-align: middle;\n",
       "    }\n",
       "\n",
       "    .dataframe tbody tr th {\n",
       "        vertical-align: top;\n",
       "    }\n",
       "\n",
       "    .dataframe thead th {\n",
       "        text-align: right;\n",
       "    }\n",
       "</style>\n",
       "<table border=\"1\" class=\"dataframe\">\n",
       "  <thead>\n",
       "    <tr style=\"text-align: right;\">\n",
       "      <th></th>\n",
       "      <th>1</th>\n",
       "      <th>2</th>\n",
       "      <th>4</th>\n",
       "      <th>5</th>\n",
       "      <th>6</th>\n",
       "      <th>7</th>\n",
       "      <th>8</th>\n",
       "      <th>9</th>\n",
       "      <th>10</th>\n",
       "      <th>11</th>\n",
       "      <th>...</th>\n",
       "      <th>15</th>\n",
       "      <th>16</th>\n",
       "      <th>17</th>\n",
       "      <th>18</th>\n",
       "      <th>19</th>\n",
       "      <th>20</th>\n",
       "      <th>21</th>\n",
       "      <th>22</th>\n",
       "      <th>23</th>\n",
       "      <th>24</th>\n",
       "    </tr>\n",
       "  </thead>\n",
       "  <tbody>\n",
       "    <tr>\n",
       "      <th>0</th>\n",
       "      <td>2</td>\n",
       "      <td>1</td>\n",
       "      <td>38.50</td>\n",
       "      <td>66</td>\n",
       "      <td>28</td>\n",
       "      <td>3</td>\n",
       "      <td>3</td>\n",
       "      <td>NaN</td>\n",
       "      <td>2</td>\n",
       "      <td>5</td>\n",
       "      <td>...</td>\n",
       "      <td>NaN</td>\n",
       "      <td>NaN</td>\n",
       "      <td>3</td>\n",
       "      <td>5</td>\n",
       "      <td>45.00</td>\n",
       "      <td>8.40</td>\n",
       "      <td>NaN</td>\n",
       "      <td>NaN</td>\n",
       "      <td>2</td>\n",
       "      <td>2</td>\n",
       "    </tr>\n",
       "    <tr>\n",
       "      <th>1</th>\n",
       "      <td>1</td>\n",
       "      <td>1</td>\n",
       "      <td>39.2</td>\n",
       "      <td>88</td>\n",
       "      <td>20</td>\n",
       "      <td>NaN</td>\n",
       "      <td>NaN</td>\n",
       "      <td>4</td>\n",
       "      <td>1</td>\n",
       "      <td>3</td>\n",
       "      <td>...</td>\n",
       "      <td>NaN</td>\n",
       "      <td>NaN</td>\n",
       "      <td>4</td>\n",
       "      <td>2</td>\n",
       "      <td>50</td>\n",
       "      <td>85</td>\n",
       "      <td>2</td>\n",
       "      <td>2</td>\n",
       "      <td>3</td>\n",
       "      <td>2</td>\n",
       "    </tr>\n",
       "    <tr>\n",
       "      <th>2</th>\n",
       "      <td>2</td>\n",
       "      <td>1</td>\n",
       "      <td>38.30</td>\n",
       "      <td>40</td>\n",
       "      <td>24</td>\n",
       "      <td>1</td>\n",
       "      <td>1</td>\n",
       "      <td>3</td>\n",
       "      <td>1</td>\n",
       "      <td>3</td>\n",
       "      <td>...</td>\n",
       "      <td>NaN</td>\n",
       "      <td>NaN</td>\n",
       "      <td>1</td>\n",
       "      <td>1</td>\n",
       "      <td>33.00</td>\n",
       "      <td>6.70</td>\n",
       "      <td>NaN</td>\n",
       "      <td>NaN</td>\n",
       "      <td>1</td>\n",
       "      <td>2</td>\n",
       "    </tr>\n",
       "    <tr>\n",
       "      <th>3</th>\n",
       "      <td>1</td>\n",
       "      <td>9</td>\n",
       "      <td>39.10</td>\n",
       "      <td>164</td>\n",
       "      <td>84</td>\n",
       "      <td>4</td>\n",
       "      <td>1</td>\n",
       "      <td>6</td>\n",
       "      <td>2</td>\n",
       "      <td>2</td>\n",
       "      <td>...</td>\n",
       "      <td>2</td>\n",
       "      <td>5.00</td>\n",
       "      <td>3</td>\n",
       "      <td>NaN</td>\n",
       "      <td>48.00</td>\n",
       "      <td>7.20</td>\n",
       "      <td>3</td>\n",
       "      <td>5.30</td>\n",
       "      <td>2</td>\n",
       "      <td>1</td>\n",
       "    </tr>\n",
       "    <tr>\n",
       "      <th>4</th>\n",
       "      <td>2</td>\n",
       "      <td>1</td>\n",
       "      <td>37.30</td>\n",
       "      <td>104</td>\n",
       "      <td>35</td>\n",
       "      <td>NaN</td>\n",
       "      <td>NaN</td>\n",
       "      <td>6</td>\n",
       "      <td>2</td>\n",
       "      <td>NaN</td>\n",
       "      <td>...</td>\n",
       "      <td>NaN</td>\n",
       "      <td>NaN</td>\n",
       "      <td>NaN</td>\n",
       "      <td>NaN</td>\n",
       "      <td>74.00</td>\n",
       "      <td>7.40</td>\n",
       "      <td>NaN</td>\n",
       "      <td>NaN</td>\n",
       "      <td>2</td>\n",
       "      <td>2</td>\n",
       "    </tr>\n",
       "  </tbody>\n",
       "</table>\n",
       "<p>5 rows × 23 columns</p>\n",
       "</div>"
      ],
      "text/plain": [
       "  1   2      4    5   6    7    8    9  10   11  ...   15    16   17   18  \\\n",
       "0  2   1  38.50   66  28    3    3  NaN  2    5  ...  NaN   NaN    3    5   \n",
       "1  1   1   39.2   88  20  NaN  NaN    4  1    3  ...  NaN   NaN    4    2   \n",
       "2  2   1  38.30   40  24    1    1    3  1    3  ...  NaN   NaN    1    1   \n",
       "3  1   9  39.10  164  84    4    1    6  2    2  ...    2  5.00    3  NaN   \n",
       "4  2   1  37.30  104  35  NaN  NaN    6  2  NaN  ...  NaN   NaN  NaN  NaN   \n",
       "\n",
       "      19    20   21    22 23 24  \n",
       "0  45.00  8.40  NaN   NaN  2  2  \n",
       "1     50    85    2     2  3  2  \n",
       "2  33.00  6.70  NaN   NaN  1  2  \n",
       "3  48.00  7.20    3  5.30  2  1  \n",
       "4  74.00  7.40  NaN   NaN  2  2  \n",
       "\n",
       "[5 rows x 23 columns]"
      ]
     },
     "execution_count": 28,
     "metadata": {},
     "output_type": "execute_result"
    }
   ],
   "source": [
    "df = pd.read_csv(filename, header=None)\n",
    "df = df.replace('?', np.nan)\n",
    "df.columns = range(1, 29)\n",
    "to_remove = [3, 25, 26, 27, 28]\n",
    "df = df.drop(to_remove, axis=1)\n",
    "df.head()"
   ]
  },
  {
   "cell_type": "code",
   "execution_count": 29,
   "metadata": {},
   "outputs": [
    {
     "name": "stdout",
     "output_type": "stream",
     "text": [
      "Number of NaN in column 1: 1\n",
      "Number of NaN in column 2: 0\n",
      "Number of NaN in column 4: 60\n",
      "Number of NaN in column 5: 24\n",
      "Number of NaN in column 6: 58\n",
      "Number of NaN in column 7: 56\n",
      "Number of NaN in column 8: 69\n",
      "Number of NaN in column 9: 47\n",
      "Number of NaN in column 10: 32\n",
      "Number of NaN in column 11: 55\n",
      "Number of NaN in column 12: 44\n",
      "Number of NaN in column 13: 56\n",
      "Number of NaN in column 14: 104\n",
      "Number of NaN in column 15: 106\n",
      "Number of NaN in column 16: 247\n",
      "Number of NaN in column 17: 102\n",
      "Number of NaN in column 18: 118\n",
      "Number of NaN in column 19: 29\n",
      "Number of NaN in column 20: 33\n",
      "Number of NaN in column 21: 165\n",
      "Number of NaN in column 22: 198\n",
      "Number of NaN in column 23: 1\n",
      "Number of NaN in column 24: 0\n"
     ]
    }
   ],
   "source": [
    "for col in df.columns:\n",
    "    print(f'Number of NaN in column {col}: {df[col].isna().sum()}')"
   ]
  },
  {
   "attachments": {},
   "cell_type": "markdown",
   "metadata": {},
   "source": [
    "# 2"
   ]
  },
  {
   "cell_type": "code",
   "execution_count": 30,
   "metadata": {},
   "outputs": [],
   "source": [
    "target = 23\n",
    "# dropping rows where target is NaN\n",
    "df = df.dropna(subset=[target], axis=0)"
   ]
  },
  {
   "cell_type": "code",
   "execution_count": 31,
   "metadata": {},
   "outputs": [],
   "source": [
    "column_names = df.iloc[:, df.columns != target].columns"
   ]
  },
  {
   "cell_type": "code",
   "execution_count": 32,
   "metadata": {},
   "outputs": [],
   "source": [
    "imputer = SimpleImputer(strategy='mean', missing_values=np.nan)\n",
    "df_predicting = pd.DataFrame(imputer.fit_transform(df.iloc[:, df.columns != target]), columns=column_names)"
   ]
  },
  {
   "cell_type": "code",
   "execution_count": 33,
   "metadata": {},
   "outputs": [],
   "source": [
    "X = df_predicting\n",
    "y = df[target]"
   ]
  },
  {
   "attachments": {},
   "cell_type": "markdown",
   "metadata": {},
   "source": [
    "# 3"
   ]
  },
  {
   "cell_type": "code",
   "execution_count": 34,
   "metadata": {},
   "outputs": [],
   "source": [
    "X_train, X_test, y_train, y_test = train_test_split(X, y, test_size=0.2, random_state=random_state)"
   ]
  },
  {
   "cell_type": "code",
   "execution_count": 35,
   "metadata": {},
   "outputs": [
    {
     "name": "stdout",
     "output_type": "stream",
     "text": [
      "Best parameters for Decision Tree: {'max_depth': 7}\n"
     ]
    }
   ],
   "source": [
    "# Decision Tree\n",
    "score = 'accuracy'\n",
    "param_grid_dt = {'max_depth': list(range(1, 20))}\n",
    "model_dt = GridSearchCV(DecisionTreeClassifier(random_state=random_state), param_grid_dt, cv=5, scoring=score)\n",
    "model_dt.fit(X_train, y_train)\n",
    "print(f'Best parameters for Decision Tree: {model_dt.best_params_}')"
   ]
  },
  {
   "cell_type": "code",
   "execution_count": 36,
   "metadata": {},
   "outputs": [
    {
     "name": "stdout",
     "output_type": "stream",
     "text": [
      "Confusion matrix for Decision Tree:\n",
      "[[0.70588235 0.17647059 0.11764706]\n",
      " [0.29411765 0.47058824 0.23529412]\n",
      " [0.55555556 0.11111111 0.33333333]]\n"
     ]
    }
   ],
   "source": [
    "y_pred_dt = model_dt.predict(X_test)\n",
    "\n",
    "print(f'Confusion matrix for Decision Tree:\\n{confusion_matrix(y_test, y_pred_dt, normalize=\"true\")}')"
   ]
  },
  {
   "cell_type": "code",
   "execution_count": 37,
   "metadata": {},
   "outputs": [
    {
     "name": "stdout",
     "output_type": "stream",
     "text": [
      "F1 score for Decision Tree: 0.5019607843137256\n"
     ]
    }
   ],
   "source": [
    "f1_model_dt = f1_score(y_test, y_pred_dt, average='macro')\n",
    "print(f'F1 score for Decision Tree: {f1_model_dt}')"
   ]
  },
  {
   "cell_type": "code",
   "execution_count": 38,
   "metadata": {},
   "outputs": [
    {
     "name": "stdout",
     "output_type": "stream",
     "text": [
      "Cohen Kappa score for Decision Tree: 0.2822966507177034\n"
     ]
    }
   ],
   "source": [
    "cohen_kappa_model_dt = cohen_kappa_score(y_test, y_pred_dt)\n",
    "print(f'Cohen Kappa score for Decision Tree: {cohen_kappa_model_dt}')"
   ]
  },
  {
   "attachments": {},
   "cell_type": "markdown",
   "metadata": {},
   "source": [
    "# 4"
   ]
  },
  {
   "cell_type": "code",
   "execution_count": 40,
   "metadata": {},
   "outputs": [
    {
     "name": "stdout",
     "output_type": "stream",
     "text": [
      "Best parameters for KNN: {'n_neighbors': 3}\n"
     ]
    }
   ],
   "source": [
    "score = 'accuracy'\n",
    "param_grid_knn = {'n_neighbors': list(range(1, 20))}\n",
    "model_knn = GridSearchCV(KNeighborsClassifier(), param_grid_knn, cv=5, scoring=score)\n",
    "model_knn.fit(X_train, y_train)\n",
    "print(f'Best parameters for KNN: {model_knn.best_params_}')"
   ]
  },
  {
   "cell_type": "code",
   "execution_count": 41,
   "metadata": {},
   "outputs": [
    {
     "name": "stdout",
     "output_type": "stream",
     "text": [
      "Confusion matrix for KNN:\n",
      "[[0.85294118 0.14705882 0.        ]\n",
      " [0.58823529 0.35294118 0.05882353]\n",
      " [0.66666667 0.22222222 0.11111111]]\n"
     ]
    }
   ],
   "source": [
    "y_pred_knn = model_knn.predict(X_test)\n",
    "print(f'Confusion matrix for KNN:\\n{confusion_matrix(y_test, y_pred_knn, normalize=\"true\")}')"
   ]
  },
  {
   "cell_type": "code",
   "execution_count": 42,
   "metadata": {},
   "outputs": [
    {
     "name": "stdout",
     "output_type": "stream",
     "text": [
      "F1 score for KNN: 0.43866513233601845\n",
      "Cohen Kappa score for KNN: 0.21354451119606765\n"
     ]
    }
   ],
   "source": [
    "f1_model_knn = f1_score(y_test, y_pred_knn, average='macro')\n",
    "print(f'F1 score for KNN: {f1_model_knn}')\n",
    "\n",
    "cohen_kappa_model_knn = cohen_kappa_score(y_test, y_pred_knn)\n",
    "print(f'Cohen Kappa score for KNN: {cohen_kappa_model_knn}')"
   ]
  },
  {
   "attachments": {},
   "cell_type": "markdown",
   "metadata": {},
   "source": [
    "# 5"
   ]
  },
  {
   "cell_type": "code",
   "execution_count": 48,
   "metadata": {},
   "outputs": [
    {
     "data": {
      "text/html": [
       "<div>\n",
       "<style scoped>\n",
       "    .dataframe tbody tr th:only-of-type {\n",
       "        vertical-align: middle;\n",
       "    }\n",
       "\n",
       "    .dataframe tbody tr th {\n",
       "        vertical-align: top;\n",
       "    }\n",
       "\n",
       "    .dataframe thead th {\n",
       "        text-align: right;\n",
       "    }\n",
       "</style>\n",
       "<table border=\"1\" class=\"dataframe\">\n",
       "  <thead>\n",
       "    <tr style=\"text-align: right;\">\n",
       "      <th></th>\n",
       "      <th>Model</th>\n",
       "      <th>F1 score</th>\n",
       "      <th>Cohen Kappa score</th>\n",
       "    </tr>\n",
       "  </thead>\n",
       "  <tbody>\n",
       "    <tr>\n",
       "      <th>0</th>\n",
       "      <td>Decision Tree</td>\n",
       "      <td>0.501961</td>\n",
       "      <td>0.282297</td>\n",
       "    </tr>\n",
       "    <tr>\n",
       "      <th>1</th>\n",
       "      <td>KNN</td>\n",
       "      <td>0.438665</td>\n",
       "      <td>0.213545</td>\n",
       "    </tr>\n",
       "  </tbody>\n",
       "</table>\n",
       "</div>"
      ],
      "text/plain": [
       "           Model  F1 score  Cohen Kappa score\n",
       "0  Decision Tree  0.501961           0.282297\n",
       "1            KNN  0.438665           0.213545"
      ]
     },
     "execution_count": 48,
     "metadata": {},
     "output_type": "execute_result"
    }
   ],
   "source": [
    "results = pd.DataFrame(\n",
    "    {\n",
    "        'Model': ['Decision Tree', 'KNN'],\n",
    "        'F1 score': [f1_model_dt, f1_model_knn],\n",
    "        'Cohen Kappa score': [cohen_kappa_model_dt, cohen_kappa_model_knn]\n",
    "    },\n",
    "    columns=['Model', 'F1 score', 'Cohen Kappa score']\n",
    ")\n",
    "\n",
    "results"
   ]
  }
 ],
 "metadata": {
  "kernelspec": {
   "display_name": "Python 3",
   "language": "python",
   "name": "python3"
  },
  "language_info": {
   "codemirror_mode": {
    "name": "ipython",
    "version": 3
   },
   "file_extension": ".py",
   "mimetype": "text/x-python",
   "name": "python",
   "nbconvert_exporter": "python",
   "pygments_lexer": "ipython3",
   "version": "3.10.6"
  },
  "orig_nbformat": 4,
  "vscode": {
   "interpreter": {
    "hash": "916dbcbb3f70747c44a77c7bcd40155683ae19c65e1c03b4aa3499c5328201f1"
   }
  }
 },
 "nbformat": 4,
 "nbformat_minor": 2
}
