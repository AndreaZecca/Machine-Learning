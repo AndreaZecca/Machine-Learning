{
 "cells": [
  {
   "attachments": {},
   "cell_type": "markdown",
   "metadata": {},
   "source": [
    "1. Read a transactions database in sparse format from a txt file into a list of lists. The file\n",
    "contains one transaction per line, each line has a variable number of items, separated by a\n",
    "separator. The external list will have a list for each transaction, each transaction is a list of\n",
    "items. Show the first two transactions (3 points)\n",
    "2. Encode the list of lists into a binary representation and transform it into a dataframe whose\n",
    "columns are the items show the head of that dataframe\n",
    "3. Find a value of min_support such that the apriori algorithm generates at least 8 frequent\n",
    "itemsets with at least 2 items. Output the result with the message below (5 points)\n",
    "4. Find the minimum metric threshold such that at least 10 association rules are extracted\n",
    "from the frequent itemsets found (5 points)\n",
    "5. Print the first 10 rules found, sorted by descending confidence and support (3 points)\n",
    "6. Plot confidence and support for all the sorted rules found (3 points)\n",
    "7. Scatter plot the rules by confidence and support, labelling the points with the index value of\n",
    "the corresponding rule (3 points)"
   ]
  },
  {
   "cell_type": "code",
   "execution_count": 10,
   "metadata": {},
   "outputs": [],
   "source": [
    "import pandas as pd\n",
    "import numpy as np\n",
    "import matplotlib.pyplot as plt\n",
    "from mlxtend.preprocessing import TransactionEncoder\n",
    "from mlxtend.frequent_patterns import apriori\n",
    "from mlxtend.frequent_patterns import association_rules\n",
    "\n",
    "# Variables\n",
    "file_name = './datasets/online_retail_red.txt'\n",
    "separator = ';'\n",
    "random_state = 42\n",
    "\n",
    "# Directives\n",
    "%matplotlib inline\n",
    "np.random.seed(random_state)\n",
    "import warnings\n",
    "warnings.filterwarnings('ignore')"
   ]
  },
  {
   "attachments": {},
   "cell_type": "markdown",
   "metadata": {},
   "source": [
    "# 1"
   ]
  },
  {
   "cell_type": "code",
   "execution_count": 4,
   "metadata": {},
   "outputs": [],
   "source": [
    "file = open(file_name, mode = 'r')\n",
    "transactions = [line.strip('\\n').split(separator) for line in file.readlines()]"
   ]
  },
  {
   "cell_type": "code",
   "execution_count": 5,
   "metadata": {},
   "outputs": [
    {
     "name": "stdout",
     "output_type": "stream",
     "text": [
      "First transaction:\t['CREAM CUPID HEARTS COAT HANGER', 'GLASS STAR FROSTED T-LIGHT HOLDER', 'KNITTED UNION FLAG HOT WATER BOTTLE', 'RED WOOLLY HOTTIE WHITE HEART.', 'SET 7 BABUSHKA NESTING BOXES', 'WHITE HANGING HEART T-LIGHT HOLDER', 'WHITE METAL LANTERN']\n",
      "\n",
      "Second transaction:\t['HAND WARMER RED POLKA DOT', 'HAND WARMER UNION JACK']\n"
     ]
    }
   ],
   "source": [
    "print(f\"First transaction:\\t{transactions[0]}\\n\\nSecond transaction:\\t{transactions[1]}\")"
   ]
  },
  {
   "attachments": {},
   "cell_type": "markdown",
   "metadata": {},
   "source": [
    "# 2"
   ]
  },
  {
   "cell_type": "code",
   "execution_count": 6,
   "metadata": {},
   "outputs": [
    {
     "data": {
      "text/html": [
       "<div>\n",
       "<style scoped>\n",
       "    .dataframe tbody tr th:only-of-type {\n",
       "        vertical-align: middle;\n",
       "    }\n",
       "\n",
       "    .dataframe tbody tr th {\n",
       "        vertical-align: top;\n",
       "    }\n",
       "\n",
       "    .dataframe thead th {\n",
       "        text-align: right;\n",
       "    }\n",
       "</style>\n",
       "<table border=\"1\" class=\"dataframe\">\n",
       "  <thead>\n",
       "    <tr style=\"text-align: right;\">\n",
       "      <th></th>\n",
       "      <th>10 COLOUR SPACEBOY PEN</th>\n",
       "      <th>12 COLOURED PARTY BALLOONS</th>\n",
       "      <th>12 DAISY PEGS IN WOOD BOX</th>\n",
       "      <th>12 EGG HOUSE PAINTED WOOD</th>\n",
       "      <th>12 IVORY ROSE PEG PLACE SETTINGS</th>\n",
       "      <th>12 MESSAGE CARDS WITH ENVELOPES</th>\n",
       "      <th>12 PENCIL SMALL TUBE WOODLAND</th>\n",
       "      <th>12 PENCILS SMALL TUBE RED RETROSPOT</th>\n",
       "      <th>12 PENCILS SMALL TUBE SKULL</th>\n",
       "      <th>12 PENCILS TALL TUBE POSY</th>\n",
       "      <th>...</th>\n",
       "      <th>ZINC HEART LATTICE T-LIGHT HOLDER</th>\n",
       "      <th>ZINC HEARTS PLANT POT HOLDER</th>\n",
       "      <th>ZINC HERB GARDEN CONTAINER</th>\n",
       "      <th>ZINC METAL HEART DECORATION</th>\n",
       "      <th>ZINC SWEETHEART SOAP DISH</th>\n",
       "      <th>ZINC SWEETHEART WIRE LETTER RACK</th>\n",
       "      <th>ZINC T-LIGHT HOLDER STAR LARGE</th>\n",
       "      <th>ZINC T-LIGHT HOLDER STARS SMALL</th>\n",
       "      <th>ZINC WILLIE WINKIE  CANDLE STICK</th>\n",
       "      <th>ZINC WIRE SWEETHEART LETTER TRAY</th>\n",
       "    </tr>\n",
       "  </thead>\n",
       "  <tbody>\n",
       "    <tr>\n",
       "      <th>0</th>\n",
       "      <td>0</td>\n",
       "      <td>0</td>\n",
       "      <td>0</td>\n",
       "      <td>0</td>\n",
       "      <td>0</td>\n",
       "      <td>0</td>\n",
       "      <td>0</td>\n",
       "      <td>0</td>\n",
       "      <td>0</td>\n",
       "      <td>0</td>\n",
       "      <td>...</td>\n",
       "      <td>0</td>\n",
       "      <td>0</td>\n",
       "      <td>0</td>\n",
       "      <td>0</td>\n",
       "      <td>0</td>\n",
       "      <td>0</td>\n",
       "      <td>0</td>\n",
       "      <td>0</td>\n",
       "      <td>0</td>\n",
       "      <td>0</td>\n",
       "    </tr>\n",
       "    <tr>\n",
       "      <th>1</th>\n",
       "      <td>0</td>\n",
       "      <td>0</td>\n",
       "      <td>0</td>\n",
       "      <td>0</td>\n",
       "      <td>0</td>\n",
       "      <td>0</td>\n",
       "      <td>0</td>\n",
       "      <td>0</td>\n",
       "      <td>0</td>\n",
       "      <td>0</td>\n",
       "      <td>...</td>\n",
       "      <td>0</td>\n",
       "      <td>0</td>\n",
       "      <td>0</td>\n",
       "      <td>0</td>\n",
       "      <td>0</td>\n",
       "      <td>0</td>\n",
       "      <td>0</td>\n",
       "      <td>0</td>\n",
       "      <td>0</td>\n",
       "      <td>0</td>\n",
       "    </tr>\n",
       "    <tr>\n",
       "      <th>2</th>\n",
       "      <td>0</td>\n",
       "      <td>0</td>\n",
       "      <td>0</td>\n",
       "      <td>0</td>\n",
       "      <td>0</td>\n",
       "      <td>0</td>\n",
       "      <td>0</td>\n",
       "      <td>0</td>\n",
       "      <td>0</td>\n",
       "      <td>0</td>\n",
       "      <td>...</td>\n",
       "      <td>0</td>\n",
       "      <td>0</td>\n",
       "      <td>0</td>\n",
       "      <td>0</td>\n",
       "      <td>0</td>\n",
       "      <td>0</td>\n",
       "      <td>0</td>\n",
       "      <td>0</td>\n",
       "      <td>0</td>\n",
       "      <td>0</td>\n",
       "    </tr>\n",
       "    <tr>\n",
       "      <th>3</th>\n",
       "      <td>0</td>\n",
       "      <td>0</td>\n",
       "      <td>0</td>\n",
       "      <td>0</td>\n",
       "      <td>0</td>\n",
       "      <td>0</td>\n",
       "      <td>0</td>\n",
       "      <td>0</td>\n",
       "      <td>0</td>\n",
       "      <td>0</td>\n",
       "      <td>...</td>\n",
       "      <td>0</td>\n",
       "      <td>0</td>\n",
       "      <td>0</td>\n",
       "      <td>0</td>\n",
       "      <td>0</td>\n",
       "      <td>0</td>\n",
       "      <td>0</td>\n",
       "      <td>0</td>\n",
       "      <td>0</td>\n",
       "      <td>0</td>\n",
       "    </tr>\n",
       "    <tr>\n",
       "      <th>4</th>\n",
       "      <td>0</td>\n",
       "      <td>0</td>\n",
       "      <td>0</td>\n",
       "      <td>0</td>\n",
       "      <td>0</td>\n",
       "      <td>0</td>\n",
       "      <td>0</td>\n",
       "      <td>0</td>\n",
       "      <td>0</td>\n",
       "      <td>0</td>\n",
       "      <td>...</td>\n",
       "      <td>0</td>\n",
       "      <td>0</td>\n",
       "      <td>0</td>\n",
       "      <td>0</td>\n",
       "      <td>0</td>\n",
       "      <td>0</td>\n",
       "      <td>0</td>\n",
       "      <td>0</td>\n",
       "      <td>0</td>\n",
       "      <td>0</td>\n",
       "    </tr>\n",
       "  </tbody>\n",
       "</table>\n",
       "<p>5 rows × 2968 columns</p>\n",
       "</div>"
      ],
      "text/plain": [
       "   10 COLOUR SPACEBOY PEN  12 COLOURED PARTY BALLOONS  \\\n",
       "0                       0                           0   \n",
       "1                       0                           0   \n",
       "2                       0                           0   \n",
       "3                       0                           0   \n",
       "4                       0                           0   \n",
       "\n",
       "   12 DAISY PEGS IN WOOD BOX  12 EGG HOUSE PAINTED WOOD  \\\n",
       "0                          0                          0   \n",
       "1                          0                          0   \n",
       "2                          0                          0   \n",
       "3                          0                          0   \n",
       "4                          0                          0   \n",
       "\n",
       "   12 IVORY ROSE PEG PLACE SETTINGS  12 MESSAGE CARDS WITH ENVELOPES  \\\n",
       "0                                 0                                0   \n",
       "1                                 0                                0   \n",
       "2                                 0                                0   \n",
       "3                                 0                                0   \n",
       "4                                 0                                0   \n",
       "\n",
       "   12 PENCIL SMALL TUBE WOODLAND  12 PENCILS SMALL TUBE RED RETROSPOT  \\\n",
       "0                              0                                    0   \n",
       "1                              0                                    0   \n",
       "2                              0                                    0   \n",
       "3                              0                                    0   \n",
       "4                              0                                    0   \n",
       "\n",
       "   12 PENCILS SMALL TUBE SKULL  12 PENCILS TALL TUBE POSY  ...  \\\n",
       "0                            0                          0  ...   \n",
       "1                            0                          0  ...   \n",
       "2                            0                          0  ...   \n",
       "3                            0                          0  ...   \n",
       "4                            0                          0  ...   \n",
       "\n",
       "   ZINC HEART LATTICE T-LIGHT HOLDER  ZINC HEARTS PLANT POT HOLDER  \\\n",
       "0                                  0                             0   \n",
       "1                                  0                             0   \n",
       "2                                  0                             0   \n",
       "3                                  0                             0   \n",
       "4                                  0                             0   \n",
       "\n",
       "   ZINC HERB GARDEN CONTAINER  ZINC METAL HEART DECORATION  \\\n",
       "0                           0                            0   \n",
       "1                           0                            0   \n",
       "2                           0                            0   \n",
       "3                           0                            0   \n",
       "4                           0                            0   \n",
       "\n",
       "   ZINC SWEETHEART SOAP DISH  ZINC SWEETHEART WIRE LETTER RACK  \\\n",
       "0                          0                                 0   \n",
       "1                          0                                 0   \n",
       "2                          0                                 0   \n",
       "3                          0                                 0   \n",
       "4                          0                                 0   \n",
       "\n",
       "   ZINC T-LIGHT HOLDER STAR LARGE  ZINC T-LIGHT HOLDER STARS SMALL  \\\n",
       "0                               0                                0   \n",
       "1                               0                                0   \n",
       "2                               0                                0   \n",
       "3                               0                                0   \n",
       "4                               0                                0   \n",
       "\n",
       "   ZINC WILLIE WINKIE  CANDLE STICK  ZINC WIRE SWEETHEART LETTER TRAY  \n",
       "0                                 0                                 0  \n",
       "1                                 0                                 0  \n",
       "2                                 0                                 0  \n",
       "3                                 0                                 0  \n",
       "4                                 0                                 0  \n",
       "\n",
       "[5 rows x 2968 columns]"
      ]
     },
     "execution_count": 6,
     "metadata": {},
     "output_type": "execute_result"
    }
   ],
   "source": [
    "encoder = TransactionEncoder()\n",
    "encoded_transactions = encoder.fit_transform(transactions)\n",
    "df = pd.DataFrame(encoded_transactions.astype(int), columns = encoder.columns_)\n",
    "df.head()"
   ]
  },
  {
   "attachments": {},
   "cell_type": "markdown",
   "metadata": {},
   "source": [
    "# 3"
   ]
  },
  {
   "cell_type": "code",
   "execution_count": 7,
   "metadata": {},
   "outputs": [],
   "source": [
    "min_itemsets = 8\n",
    "min_item_in_itemset = 2\n",
    "support_range = np.arange(0.1, 0.01, -0.01)"
   ]
  },
  {
   "cell_type": "code",
   "execution_count": 12,
   "metadata": {},
   "outputs": [
    {
     "name": "stdout",
     "output_type": "stream",
     "text": [
      "I've selected min_support = 0.03, which produced 148 itemsets, 12 of which had more than 2 items\n"
     ]
    }
   ],
   "source": [
    "min_support = 0\n",
    "for s_value in support_range:\n",
    "    frequent_itemsets = apriori(df, min_support = s_value, use_colnames = True)\n",
    "    itemsets_above_threshold = sum([len(itemset) >= min_item_in_itemset for itemset in frequent_itemsets.itemsets])\n",
    "    if itemsets_above_threshold >= min_itemsets:\n",
    "        min_support = s_value\n",
    "        break\n",
    "if min_support == 0:\n",
    "    print(f\"Minimum support not found. Try a different range.\")\n",
    "else:\n",
    "    print(f\"I've selected min_support = {min_support:.2f}, which produced {len(frequent_itemsets)} itemsets, {itemsets_above_threshold} of which had more than {min_item_in_itemset} items\")"
   ]
  },
  {
   "cell_type": "code",
   "execution_count": 13,
   "metadata": {},
   "outputs": [
    {
     "name": "stdout",
     "output_type": "stream",
     "text": [
      "min_support: 0.0300 - number of itemsets with at least 2 items: 12\n"
     ]
    }
   ],
   "source": [
    "print(f\"min_support: {min_support:.4f} - number of itemsets with at least 2 items: {itemsets_above_threshold}\")"
   ]
  },
  {
   "attachments": {},
   "cell_type": "markdown",
   "metadata": {},
   "source": [
    "# 4"
   ]
  },
  {
   "cell_type": "code",
   "execution_count": 14,
   "metadata": {},
   "outputs": [],
   "source": [
    "min_rules = 10\n",
    "confidence_range = np.arange(1, 0.01, -0.01)"
   ]
  },
  {
   "cell_type": "code",
   "execution_count": 15,
   "metadata": {},
   "outputs": [
    {
     "name": "stdout",
     "output_type": "stream",
     "text": [
      "I've selected min_confidence = 0.61, which produced 11 rules.\n"
     ]
    }
   ],
   "source": [
    "min_confidence = 0\n",
    "\n",
    "for c_value in confidence_range:\n",
    "    rules = association_rules(frequent_itemsets, metric = 'confidence', min_threshold = c_value)\n",
    "    if len(rules) >= min_rules:\n",
    "        min_confidence = c_value\n",
    "        break\n",
    "if min_confidence == 0:\n",
    "    print(f\"Minimum confidence not found. Try a different range.\")\n",
    "else:\n",
    "    print(f\"I've selected min_confidence = {min_confidence:.2f}, which produced {len(rules)} rules.\")"
   ]
  },
  {
   "cell_type": "code",
   "execution_count": 16,
   "metadata": {},
   "outputs": [
    {
     "name": "stdout",
     "output_type": "stream",
     "text": [
      "Metric: \"confidence\" - min_metric: 0.6100 - Number of rules: 11\n"
     ]
    }
   ],
   "source": [
    "print(f'Metric: \"confidence\" - min_metric: {min_confidence:.4f} - Number of rules: {len(rules)}')"
   ]
  },
  {
   "attachments": {},
   "cell_type": "markdown",
   "metadata": {},
   "source": [
    "# 5"
   ]
  },
  {
   "cell_type": "code",
   "execution_count": 19,
   "metadata": {},
   "outputs": [
    {
     "data": {
      "text/html": [
       "<div>\n",
       "<style scoped>\n",
       "    .dataframe tbody tr th:only-of-type {\n",
       "        vertical-align: middle;\n",
       "    }\n",
       "\n",
       "    .dataframe tbody tr th {\n",
       "        vertical-align: top;\n",
       "    }\n",
       "\n",
       "    .dataframe thead th {\n",
       "        text-align: right;\n",
       "    }\n",
       "</style>\n",
       "<table border=\"1\" class=\"dataframe\">\n",
       "  <thead>\n",
       "    <tr style=\"text-align: right;\">\n",
       "      <th></th>\n",
       "      <th>antecedents</th>\n",
       "      <th>consequents</th>\n",
       "      <th>antecedent support</th>\n",
       "      <th>consequent support</th>\n",
       "      <th>support</th>\n",
       "      <th>confidence</th>\n",
       "      <th>lift</th>\n",
       "      <th>leverage</th>\n",
       "      <th>conviction</th>\n",
       "    </tr>\n",
       "  </thead>\n",
       "  <tbody>\n",
       "    <tr>\n",
       "      <th>0</th>\n",
       "      <td>(PINK REGENCY TEACUP AND SAUCER)</td>\n",
       "      <td>(GREEN REGENCY TEACUP AND SAUCER)</td>\n",
       "      <td>0.039331</td>\n",
       "      <td>0.052255</td>\n",
       "      <td>0.032282</td>\n",
       "      <td>0.820768</td>\n",
       "      <td>15.707077</td>\n",
       "      <td>0.030226</td>\n",
       "      <td>5.287817</td>\n",
       "    </tr>\n",
       "    <tr>\n",
       "      <th>1</th>\n",
       "      <td>(PINK REGENCY TEACUP AND SAUCER)</td>\n",
       "      <td>(ROSES REGENCY TEACUP AND SAUCER)</td>\n",
       "      <td>0.039331</td>\n",
       "      <td>0.053541</td>\n",
       "      <td>0.030547</td>\n",
       "      <td>0.776671</td>\n",
       "      <td>14.505982</td>\n",
       "      <td>0.028441</td>\n",
       "      <td>4.237964</td>\n",
       "    </tr>\n",
       "    <tr>\n",
       "      <th>2</th>\n",
       "      <td>(GREEN REGENCY TEACUP AND SAUCER)</td>\n",
       "      <td>(ROSES REGENCY TEACUP AND SAUCER)</td>\n",
       "      <td>0.052255</td>\n",
       "      <td>0.053541</td>\n",
       "      <td>0.039219</td>\n",
       "      <td>0.750535</td>\n",
       "      <td>14.017835</td>\n",
       "      <td>0.036421</td>\n",
       "      <td>3.793958</td>\n",
       "    </tr>\n",
       "    <tr>\n",
       "      <th>3</th>\n",
       "      <td>(ROSES REGENCY TEACUP AND SAUCER)</td>\n",
       "      <td>(GREEN REGENCY TEACUP AND SAUCER)</td>\n",
       "      <td>0.053541</td>\n",
       "      <td>0.052255</td>\n",
       "      <td>0.039219</td>\n",
       "      <td>0.732497</td>\n",
       "      <td>14.017835</td>\n",
       "      <td>0.036421</td>\n",
       "      <td>3.542939</td>\n",
       "    </tr>\n",
       "    <tr>\n",
       "      <th>4</th>\n",
       "      <td>(GARDENERS KNEELING PAD CUP OF TEA)</td>\n",
       "      <td>(GARDENERS KNEELING PAD KEEP CALM)</td>\n",
       "      <td>0.041960</td>\n",
       "      <td>0.050241</td>\n",
       "      <td>0.030267</td>\n",
       "      <td>0.721333</td>\n",
       "      <td>14.357586</td>\n",
       "      <td>0.028159</td>\n",
       "      <td>3.408228</td>\n",
       "    </tr>\n",
       "    <tr>\n",
       "      <th>5</th>\n",
       "      <td>(JUMBO BAG PINK POLKADOT)</td>\n",
       "      <td>(JUMBO BAG RED RETROSPOT)</td>\n",
       "      <td>0.064843</td>\n",
       "      <td>0.108426</td>\n",
       "      <td>0.043919</td>\n",
       "      <td>0.677308</td>\n",
       "      <td>6.246751</td>\n",
       "      <td>0.036888</td>\n",
       "      <td>2.762927</td>\n",
       "    </tr>\n",
       "    <tr>\n",
       "      <th>6</th>\n",
       "      <td>(PAPER CHAIN KIT VINTAGE CHRISTMAS)</td>\n",
       "      <td>(PAPER CHAIN KIT 50'S CHRISTMAS)</td>\n",
       "      <td>0.044758</td>\n",
       "      <td>0.062941</td>\n",
       "      <td>0.030100</td>\n",
       "      <td>0.672500</td>\n",
       "      <td>10.684680</td>\n",
       "      <td>0.027283</td>\n",
       "      <td>2.861250</td>\n",
       "    </tr>\n",
       "    <tr>\n",
       "      <th>7</th>\n",
       "      <td>(ALARM CLOCK BAKELIKE GREEN)</td>\n",
       "      <td>(ALARM CLOCK BAKELIKE RED)</td>\n",
       "      <td>0.049010</td>\n",
       "      <td>0.052031</td>\n",
       "      <td>0.031498</td>\n",
       "      <td>0.642694</td>\n",
       "      <td>12.352165</td>\n",
       "      <td>0.028948</td>\n",
       "      <td>2.653102</td>\n",
       "    </tr>\n",
       "    <tr>\n",
       "      <th>8</th>\n",
       "      <td>(JUMBO  BAG BAROQUE BLACK WHITE)</td>\n",
       "      <td>(JUMBO BAG RED RETROSPOT)</td>\n",
       "      <td>0.050912</td>\n",
       "      <td>0.108426</td>\n",
       "      <td>0.031890</td>\n",
       "      <td>0.626374</td>\n",
       "      <td>5.776988</td>\n",
       "      <td>0.026370</td>\n",
       "      <td>2.386273</td>\n",
       "    </tr>\n",
       "    <tr>\n",
       "      <th>9</th>\n",
       "      <td>(GREEN REGENCY TEACUP AND SAUCER)</td>\n",
       "      <td>(PINK REGENCY TEACUP AND SAUCER)</td>\n",
       "      <td>0.052255</td>\n",
       "      <td>0.039331</td>\n",
       "      <td>0.032282</td>\n",
       "      <td>0.617773</td>\n",
       "      <td>15.707077</td>\n",
       "      <td>0.030226</td>\n",
       "      <td>2.513347</td>\n",
       "    </tr>\n",
       "  </tbody>\n",
       "</table>\n",
       "</div>"
      ],
      "text/plain": [
       "                           antecedents                         consequents  \\\n",
       "0     (PINK REGENCY TEACUP AND SAUCER)   (GREEN REGENCY TEACUP AND SAUCER)   \n",
       "1     (PINK REGENCY TEACUP AND SAUCER)   (ROSES REGENCY TEACUP AND SAUCER)   \n",
       "2    (GREEN REGENCY TEACUP AND SAUCER)   (ROSES REGENCY TEACUP AND SAUCER)   \n",
       "3    (ROSES REGENCY TEACUP AND SAUCER)   (GREEN REGENCY TEACUP AND SAUCER)   \n",
       "4  (GARDENERS KNEELING PAD CUP OF TEA)  (GARDENERS KNEELING PAD KEEP CALM)   \n",
       "5            (JUMBO BAG PINK POLKADOT)           (JUMBO BAG RED RETROSPOT)   \n",
       "6  (PAPER CHAIN KIT VINTAGE CHRISTMAS)    (PAPER CHAIN KIT 50'S CHRISTMAS)   \n",
       "7         (ALARM CLOCK BAKELIKE GREEN)          (ALARM CLOCK BAKELIKE RED)   \n",
       "8     (JUMBO  BAG BAROQUE BLACK WHITE)           (JUMBO BAG RED RETROSPOT)   \n",
       "9    (GREEN REGENCY TEACUP AND SAUCER)    (PINK REGENCY TEACUP AND SAUCER)   \n",
       "\n",
       "   antecedent support  consequent support   support  confidence       lift  \\\n",
       "0            0.039331            0.052255  0.032282    0.820768  15.707077   \n",
       "1            0.039331            0.053541  0.030547    0.776671  14.505982   \n",
       "2            0.052255            0.053541  0.039219    0.750535  14.017835   \n",
       "3            0.053541            0.052255  0.039219    0.732497  14.017835   \n",
       "4            0.041960            0.050241  0.030267    0.721333  14.357586   \n",
       "5            0.064843            0.108426  0.043919    0.677308   6.246751   \n",
       "6            0.044758            0.062941  0.030100    0.672500  10.684680   \n",
       "7            0.049010            0.052031  0.031498    0.642694  12.352165   \n",
       "8            0.050912            0.108426  0.031890    0.626374   5.776988   \n",
       "9            0.052255            0.039331  0.032282    0.617773  15.707077   \n",
       "\n",
       "   leverage  conviction  \n",
       "0  0.030226    5.287817  \n",
       "1  0.028441    4.237964  \n",
       "2  0.036421    3.793958  \n",
       "3  0.036421    3.542939  \n",
       "4  0.028159    3.408228  \n",
       "5  0.036888    2.762927  \n",
       "6  0.027283    2.861250  \n",
       "7  0.028948    2.653102  \n",
       "8  0.026370    2.386273  \n",
       "9  0.030226    2.513347  "
      ]
     },
     "execution_count": 19,
     "metadata": {},
     "output_type": "execute_result"
    }
   ],
   "source": [
    "sorted_rules = rules.sort_values(by = ['confidence','support'], ascending = False).reset_index(drop = True)\n",
    "sorted_rules.head(10)"
   ]
  },
  {
   "cell_type": "code",
   "execution_count": 20,
   "metadata": {},
   "outputs": [
    {
     "data": {
      "image/png": "[encoded data removed]",
      "text/plain": [
       "<Figure size 640x480 with 1 Axes>"
      ]
     },
     "metadata": {},
     "output_type": "display_data"
    }
   ],
   "source": [
    "sorted_rules[['confidence','support']].plot(title='Association Rules');"
   ]
  },
  {
   "attachments": {},
   "cell_type": "markdown",
   "metadata": {},
   "source": [
    "# 7"
   ]
  },
  {
   "cell_type": "code",
   "execution_count": 22,
   "metadata": {},
   "outputs": [
    {
     "data": {
      "image/png": "[encoded data removed]",
      "text/plain": [
       "<Figure size 640x480 with 1 Axes>"
      ]
     },
     "metadata": {},
     "output_type": "display_data"
    }
   ],
   "source": [
    "fig = sorted_rules.plot.scatter(x = 'confidence', y = 'support', title = 'Association Rules')\n",
    "\n",
    "for i in range(len(sorted_rules)):\n",
    "    fig.annotate(text = i, xy = (sorted_rules['confidence'][i], sorted_rules['support'][i]))"
   ]
  }
 ],
 "metadata": {
  "kernelspec": {
   "display_name": "Python 3",
   "language": "python",
   "name": "python3"
  },
  "language_info": {
   "codemirror_mode": {
    "name": "ipython",
    "version": 3
   },
   "file_extension": ".py",
   "mimetype": "text/x-python",
   "name": "python",
   "nbconvert_exporter": "python",
   "pygments_lexer": "ipython3",
   "version": "3.10.6 (main, Nov 14 2022, 16:10:14) [GCC 11.3.0]"
  },
  "orig_nbformat": 4,
  "vscode": {
   "interpreter": {
    "hash": "916dbcbb3f70747c44a77c7bcd40155683ae19c65e1c03b4aa3499c5328201f1"
   }
  }
 },
 "nbformat": 4,
 "nbformat_minor": 2
}
