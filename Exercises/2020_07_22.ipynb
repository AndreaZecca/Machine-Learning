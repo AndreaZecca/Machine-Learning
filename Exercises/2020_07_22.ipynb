{
 "cells": [
  {
   "attachments": {},
   "cell_type": "markdown",
   "metadata": {},
   "source": [
    "1. The data are split in two files, load the files and merge them\n",
    "according to the first column, which is the index; both the files\n",
    "contain a \"class\" column, keep both the columns in the merged\n",
    "file calling them \"class_x\" and \"class_y\" (you can use the merge\n",
    "function of pandas dataframes)\n",
    "(4pt)\n",
    "2. Delete all the rows where class_x is different from class_y, then\n",
    "drop class_y and rename class_x as class\n",
    "(4pt)\n",
    "3. Reorder the columns in alphabetical order, but placing the class\n",
    "column as the last one; the cleaned dataframe must be named\n",
    "df; show its size and head\n",
    "(4pt)\n",
    "4. Find the best classification scheme using three classification\n",
    "methods\n",
    "5. For each classification method find the best parameter setting\n",
    "with cross validation on the training set\n",
    "(6pt)\n",
    "6. For each classification method compute the accuracy and the\n",
    "confusion matrix on the test set\n",
    "(4pt)\n",
    "7. Produce a plot of the accuracies given by the methods\n",
    "attempted\n",
    "(3pt)"
   ]
  },
  {
   "cell_type": "code",
   "execution_count": 1,
   "metadata": {},
   "outputs": [],
   "source": [
    "import pandas as pd\n",
    "import numpy as np\n",
    "import matplotlib.pyplot as plt\n",
    "import seaborn as sns\n",
    "import warnings\n",
    "warnings.filterwarnings('ignore')\n",
    "\n",
    "random_state = 42\n",
    "np.random.seed(random_state)\n",
    "%matplotlib inline\n",
    "\n",
    "filename1 = './datasets/exam_1.csv'\n",
    "filename2 = './datasets/exam_2.csv'\n",
    "separator = ','"
   ]
  },
  {
   "attachments": {},
   "cell_type": "markdown",
   "metadata": {},
   "source": [
    "# 1"
   ]
  },
  {
   "cell_type": "code",
   "execution_count": 2,
   "metadata": {},
   "outputs": [],
   "source": [
    "df1 = pd.read_csv(filename1, sep=separator)\n",
    "df2 = pd.read_csv(filename2, sep=separator)\n",
    "\n",
    "df1.columns = ['id', *list(df1.columns[1:])]\n",
    "df2.columns = ['id', *list(df1.columns[1:])]"
   ]
  },
  {
   "cell_type": "code",
   "execution_count": 3,
   "metadata": {},
   "outputs": [],
   "source": [
    "df = df1.merge(df2, suffixes=('_x', '_y'), left_index=True, right_index=True)"
   ]
  },
  {
   "attachments": {},
   "cell_type": "markdown",
   "metadata": {},
   "source": [
    "# 2"
   ]
  },
  {
   "cell_type": "code",
   "execution_count": 4,
   "metadata": {},
   "outputs": [],
   "source": [
    "to_del = df[df['class_x'] != df['class_y']].index\n",
    "df.drop(to_del, inplace=True, axis=0)\n",
    "df.drop('class_y', axis=1, inplace=True)\n",
    "df.rename(columns={'class_x': 'class'}, inplace=True)"
   ]
  },
  {
   "attachments": {},
   "cell_type": "markdown",
   "metadata": {},
   "source": [
    "# 3"
   ]
  },
  {
   "cell_type": "code",
   "execution_count": 5,
   "metadata": {},
   "outputs": [
    {
     "name": "stdout",
     "output_type": "stream",
     "text": [
      "Dataset with 1984 rows and 9 columns.\n",
      "Dataset size: 17856\n"
     ]
    },
    {
     "data": {
      "text/html": [
       "<div>\n",
       "<style scoped>\n",
       "    .dataframe tbody tr th:only-of-type {\n",
       "        vertical-align: middle;\n",
       "    }\n",
       "\n",
       "    .dataframe tbody tr th {\n",
       "        vertical-align: top;\n",
       "    }\n",
       "\n",
       "    .dataframe thead th {\n",
       "        text-align: right;\n",
       "    }\n",
       "</style>\n",
       "<table border=\"1\" class=\"dataframe\">\n",
       "  <thead>\n",
       "    <tr style=\"text-align: right;\">\n",
       "      <th></th>\n",
       "      <th>A_x</th>\n",
       "      <th>A_y</th>\n",
       "      <th>C_x</th>\n",
       "      <th>C_y</th>\n",
       "      <th>E_x</th>\n",
       "      <th>E_y</th>\n",
       "      <th>id_x</th>\n",
       "      <th>id_y</th>\n",
       "      <th>class</th>\n",
       "    </tr>\n",
       "  </thead>\n",
       "  <tbody>\n",
       "    <tr>\n",
       "      <th>0</th>\n",
       "      <td>-0.386248</td>\n",
       "      <td>-1.432057</td>\n",
       "      <td>1.536628</td>\n",
       "      <td>1.039420</td>\n",
       "      <td>1.232589</td>\n",
       "      <td>0.280469</td>\n",
       "      <td>0</td>\n",
       "      <td>0</td>\n",
       "      <td>1</td>\n",
       "    </tr>\n",
       "    <tr>\n",
       "      <th>1</th>\n",
       "      <td>-2.686649</td>\n",
       "      <td>-4.036329</td>\n",
       "      <td>4.640702</td>\n",
       "      <td>0.526320</td>\n",
       "      <td>0.823433</td>\n",
       "      <td>-0.419013</td>\n",
       "      <td>1</td>\n",
       "      <td>1</td>\n",
       "      <td>1</td>\n",
       "    </tr>\n",
       "    <tr>\n",
       "      <th>2</th>\n",
       "      <td>0.474124</td>\n",
       "      <td>0.179770</td>\n",
       "      <td>1.576616</td>\n",
       "      <td>0.157974</td>\n",
       "      <td>-1.256234</td>\n",
       "      <td>-0.162869</td>\n",
       "      <td>2</td>\n",
       "      <td>2</td>\n",
       "      <td>0</td>\n",
       "    </tr>\n",
       "    <tr>\n",
       "      <th>3</th>\n",
       "      <td>-1.343790</td>\n",
       "      <td>-1.299109</td>\n",
       "      <td>-0.514008</td>\n",
       "      <td>-0.152250</td>\n",
       "      <td>1.520392</td>\n",
       "      <td>0.045123</td>\n",
       "      <td>3</td>\n",
       "      <td>3</td>\n",
       "      <td>2</td>\n",
       "    </tr>\n",
       "    <tr>\n",
       "      <th>4</th>\n",
       "      <td>-2.187600</td>\n",
       "      <td>-2.089699</td>\n",
       "      <td>0.289041</td>\n",
       "      <td>-0.494995</td>\n",
       "      <td>1.318321</td>\n",
       "      <td>-0.661858</td>\n",
       "      <td>4</td>\n",
       "      <td>4</td>\n",
       "      <td>2</td>\n",
       "    </tr>\n",
       "  </tbody>\n",
       "</table>\n",
       "</div>"
      ],
      "text/plain": [
       "        A_x       A_y       C_x       C_y       E_x       E_y  id_x  id_y  \\\n",
       "0 -0.386248 -1.432057  1.536628  1.039420  1.232589  0.280469     0     0   \n",
       "1 -2.686649 -4.036329  4.640702  0.526320  0.823433 -0.419013     1     1   \n",
       "2  0.474124  0.179770  1.576616  0.157974 -1.256234 -0.162869     2     2   \n",
       "3 -1.343790 -1.299109 -0.514008 -0.152250  1.520392  0.045123     3     3   \n",
       "4 -2.187600 -2.089699  0.289041 -0.494995  1.318321 -0.661858     4     4   \n",
       "\n",
       "   class  \n",
       "0      1  \n",
       "1      1  \n",
       "2      0  \n",
       "3      2  \n",
       "4      2  "
      ]
     },
     "execution_count": 5,
     "metadata": {},
     "output_type": "execute_result"
    }
   ],
   "source": [
    "target = 'class'\n",
    "col_names = list(df.columns)\n",
    "col_names.remove(target)\n",
    "col_names.sort()\n",
    "col_names.append(target)\n",
    "\n",
    "df = df[col_names]\n",
    "print(f'Dataset with {df.shape[0]} rows and {df.shape[1]} columns.')\n",
    "print(f'Dataset size: {df.size}')\n",
    "df.head()"
   ]
  },
  {
   "attachments": {},
   "cell_type": "markdown",
   "metadata": {},
   "source": [
    "# 4"
   ]
  },
  {
   "cell_type": "code",
   "execution_count": 6,
   "metadata": {},
   "outputs": [],
   "source": [
    "X = df.drop(target, axis=1)\n",
    "y = df[target]"
   ]
  },
  {
   "cell_type": "code",
   "execution_count": 7,
   "metadata": {},
   "outputs": [],
   "source": [
    "from sklearn.model_selection import train_test_split\n",
    "\n",
    "X_train, X_test, y_train, y_test = train_test_split(X, y, random_state=random_state)"
   ]
  },
  {
   "attachments": {},
   "cell_type": "markdown",
   "metadata": {},
   "source": [
    "DecisionTree"
   ]
  },
  {
   "cell_type": "code",
   "execution_count": 8,
   "metadata": {},
   "outputs": [],
   "source": [
    "from sklearn.tree import DecisionTreeClassifier\n",
    "\n",
    "dt = DecisionTreeClassifier(random_state=random_state)\n",
    "dt.fit(X_train, y_train)\n",
    "dt_pred_train = dt.predict(X_train)\n",
    "dt_pred_test = dt.predict(X_test)\n",
    "\n",
    "from sklearn.metrics import accuracy_score, classification_report, confusion_matrix\n",
    "dt_train_acc = accuracy_score(y_train, dt_pred_train)*100\n",
    "dt_test_acc = accuracy_score(y_test, dt_pred_test)*100"
   ]
  },
  {
   "attachments": {},
   "cell_type": "markdown",
   "metadata": {},
   "source": [
    "LinearPerceptron"
   ]
  },
  {
   "cell_type": "code",
   "execution_count": 9,
   "metadata": {},
   "outputs": [],
   "source": [
    "from sklearn.linear_model import Perceptron\n",
    "\n",
    "lp = Perceptron(random_state=random_state)\n",
    "lp.fit(X_train, y_train)\n",
    "lp_pred_train = lp.predict(X_train)\n",
    "lp_pred_test = lp.predict(X_test)\n",
    "\n",
    "lp_train_acc = accuracy_score(y_train, lp_pred_train)*100\n",
    "lp_test_acc = accuracy_score(y_test, lp_pred_test)*100\n"
   ]
  },
  {
   "attachments": {},
   "cell_type": "markdown",
   "metadata": {},
   "source": [
    "K-nearest Neighbors"
   ]
  },
  {
   "cell_type": "code",
   "execution_count": 10,
   "metadata": {},
   "outputs": [],
   "source": [
    "from sklearn.neighbors import KNeighborsClassifier\n",
    "\n",
    "knn = KNeighborsClassifier()\n",
    "knn.fit(X_train, y_train)\n",
    "knn_pred_train = knn.predict(X_train)\n",
    "knn_pred_test = knn.predict(X_test)\n",
    "\n",
    "knn_train_acc = accuracy_score(y_train, knn_pred_train)*100\n",
    "knn_test_acc = accuracy_score(y_test, knn_pred_test)*100\n"
   ]
  },
  {
   "cell_type": "code",
   "execution_count": 11,
   "metadata": {},
   "outputs": [
    {
     "data": {
      "text/html": [
       "<div>\n",
       "<style scoped>\n",
       "    .dataframe tbody tr th:only-of-type {\n",
       "        vertical-align: middle;\n",
       "    }\n",
       "\n",
       "    .dataframe tbody tr th {\n",
       "        vertical-align: top;\n",
       "    }\n",
       "\n",
       "    .dataframe thead th {\n",
       "        text-align: right;\n",
       "    }\n",
       "</style>\n",
       "<table border=\"1\" class=\"dataframe\">\n",
       "  <thead>\n",
       "    <tr style=\"text-align: right;\">\n",
       "      <th></th>\n",
       "      <th>Decision Tree</th>\n",
       "      <th>Perceptron</th>\n",
       "      <th>KNN</th>\n",
       "    </tr>\n",
       "  </thead>\n",
       "  <tbody>\n",
       "    <tr>\n",
       "      <th>Train</th>\n",
       "      <td>100.000000</td>\n",
       "      <td>35.080645</td>\n",
       "      <td>58.198925</td>\n",
       "    </tr>\n",
       "    <tr>\n",
       "      <th>Test</th>\n",
       "      <td>81.854839</td>\n",
       "      <td>30.846774</td>\n",
       "      <td>35.887097</td>\n",
       "    </tr>\n",
       "  </tbody>\n",
       "</table>\n",
       "</div>"
      ],
      "text/plain": [
       "       Decision Tree  Perceptron        KNN\n",
       "Train     100.000000   35.080645  58.198925\n",
       "Test       81.854839   30.846774  35.887097"
      ]
     },
     "execution_count": 11,
     "metadata": {},
     "output_type": "execute_result"
    }
   ],
   "source": [
    "result = pd.DataFrame({\n",
    "    'Decision Tree': [dt_train_acc, dt_test_acc],\n",
    "    'Perceptron': [lp_train_acc, lp_test_acc],\n",
    "    'KNN': [knn_train_acc, knn_test_acc]\n",
    "}, index=['Train', 'Test'])\n",
    "\n",
    "result"
   ]
  },
  {
   "attachments": {},
   "cell_type": "markdown",
   "metadata": {},
   "source": [
    "# 5"
   ]
  },
  {
   "cell_type": "code",
   "execution_count": 12,
   "metadata": {},
   "outputs": [],
   "source": [
    "model_lbls = ['dt', 'lp', 'knn']\n",
    "score = 'precision'\n",
    "\n",
    "tuned_params_dt = [\n",
    "    {'max_depth': list(range(1, dt.get_depth()+1)), 'random_state': [random_state]}\n",
    "]\n",
    "tuned_params_lp = [\n",
    "    {'early_stopping': [True], 'random_state': [random_state]}\n",
    "]\n",
    "tuned_params_knn = [\n",
    "    {'n_neighbors': list(range(1, 10))}\n",
    "]\n",
    "\n",
    "models = {\n",
    "    'dt': {\n",
    "        'name' : 'Decision Tree',\n",
    "        'model': DecisionTreeClassifier(),\n",
    "        'params': tuned_params_dt\n",
    "    },\n",
    "    'lp': {\n",
    "        'name' : 'Perceptron',\n",
    "        'model': Perceptron(),\n",
    "        'params': tuned_params_lp\n",
    "    },\n",
    "    'knn': {\n",
    "        'name' : 'KNN',\n",
    "        'model': KNeighborsClassifier(),\n",
    "        'params': tuned_params_knn\n",
    "    }\n",
    "}"
   ]
  },
  {
   "cell_type": "code",
   "execution_count": 13,
   "metadata": {},
   "outputs": [],
   "source": [
    "def print_results(model):\n",
    "    print(\"Best parameters set found on train set:\")\n",
    "    print()\n",
    "    # if best is linear there is no gamma parameter\n",
    "    print(model.best_params_)\n",
    "    print()\n",
    "    print(\"Grid scores on train set:\")\n",
    "    print()\n",
    "    means = model.cv_results_['mean_test_score']\n",
    "    stds = model.cv_results_['std_test_score']\n",
    "    params = model.cv_results_['params']\n",
    "    for mean, std, params_tuple in zip(means, stds, params):\n",
    "        print(\"%0.3f (+/-%0.03f) for %r\"\n",
    "              % (mean, std * 2, params_tuple))\n",
    "    print()\n",
    "    print(\"Detailed classification report for the best parameter set:\")\n",
    "    print()\n",
    "    print(\"The model is trained on the full train set.\")\n",
    "    print(\"The scores are computed on the full test set.\")\n",
    "    print()\n",
    "    y_true, y_pred = y_test, model.predict(X_test)\n",
    "    print(classification_report(y_true, y_pred))\n",
    "    print()"
   ]
  },
  {
   "cell_type": "code",
   "execution_count": 14,
   "metadata": {},
   "outputs": [
    {
     "name": "stdout",
     "output_type": "stream",
     "text": [
      "================================================================================\n",
      "Grid search for Decision Tree\n",
      "Best parameters set found on train set:\n",
      "\n",
      "{'max_depth': 6, 'random_state': 42}\n",
      "\n",
      "Grid scores on train set:\n",
      "\n",
      "0.432 (+/-0.022) for {'max_depth': 1, 'random_state': 42}\n",
      "0.814 (+/-0.040) for {'max_depth': 2, 'random_state': 42}\n",
      "0.814 (+/-0.043) for {'max_depth': 3, 'random_state': 42}\n",
      "0.828 (+/-0.039) for {'max_depth': 4, 'random_state': 42}\n",
      "0.824 (+/-0.051) for {'max_depth': 5, 'random_state': 42}\n",
      "0.835 (+/-0.053) for {'max_depth': 6, 'random_state': 42}\n",
      "0.834 (+/-0.050) for {'max_depth': 7, 'random_state': 42}\n",
      "0.832 (+/-0.036) for {'max_depth': 8, 'random_state': 42}\n",
      "0.821 (+/-0.045) for {'max_depth': 9, 'random_state': 42}\n",
      "0.820 (+/-0.042) for {'max_depth': 10, 'random_state': 42}\n",
      "0.825 (+/-0.032) for {'max_depth': 11, 'random_state': 42}\n",
      "0.825 (+/-0.044) for {'max_depth': 12, 'random_state': 42}\n",
      "0.820 (+/-0.049) for {'max_depth': 13, 'random_state': 42}\n",
      "0.818 (+/-0.049) for {'max_depth': 14, 'random_state': 42}\n",
      "0.820 (+/-0.044) for {'max_depth': 15, 'random_state': 42}\n",
      "0.815 (+/-0.039) for {'max_depth': 16, 'random_state': 42}\n",
      "0.816 (+/-0.039) for {'max_depth': 17, 'random_state': 42}\n",
      "0.816 (+/-0.039) for {'max_depth': 18, 'random_state': 42}\n",
      "\n",
      "Detailed classification report for the best parameter set:\n",
      "\n",
      "The model is trained on the full train set.\n",
      "The scores are computed on the full test set.\n",
      "\n",
      "              precision    recall  f1-score   support\n",
      "\n",
      "           0       0.78      0.74      0.76       152\n",
      "           1       0.85      0.77      0.81       173\n",
      "           2       0.80      0.91      0.85       171\n",
      "\n",
      "    accuracy                           0.81       496\n",
      "   macro avg       0.81      0.81      0.81       496\n",
      "weighted avg       0.81      0.81      0.81       496\n",
      "\n",
      "\n",
      "================================================================================\n",
      "Grid search for Perceptron\n",
      "Best parameters set found on train set:\n",
      "\n",
      "{'early_stopping': True, 'random_state': 42}\n",
      "\n",
      "Grid scores on train set:\n",
      "\n",
      "0.210 (+/-0.268) for {'early_stopping': True, 'random_state': 42}\n",
      "\n",
      "Detailed classification report for the best parameter set:\n",
      "\n",
      "The model is trained on the full train set.\n",
      "The scores are computed on the full test set.\n",
      "\n",
      "              precision    recall  f1-score   support\n",
      "\n",
      "           0       1.00      0.01      0.01       152\n",
      "           1       0.00      0.00      0.00       173\n",
      "           2       0.35      1.00      0.51       171\n",
      "\n",
      "    accuracy                           0.35       496\n",
      "   macro avg       0.45      0.34      0.18       496\n",
      "weighted avg       0.43      0.35      0.18       496\n",
      "\n",
      "\n",
      "================================================================================\n",
      "Grid search for KNN\n",
      "Best parameters set found on train set:\n",
      "\n",
      "{'n_neighbors': 1}\n",
      "\n",
      "Grid scores on train set:\n",
      "\n",
      "0.431 (+/-0.044) for {'n_neighbors': 1}\n",
      "0.389 (+/-0.048) for {'n_neighbors': 2}\n",
      "0.386 (+/-0.029) for {'n_neighbors': 3}\n",
      "0.369 (+/-0.062) for {'n_neighbors': 4}\n",
      "0.360 (+/-0.058) for {'n_neighbors': 5}\n",
      "0.351 (+/-0.073) for {'n_neighbors': 6}\n",
      "0.356 (+/-0.041) for {'n_neighbors': 7}\n",
      "0.348 (+/-0.079) for {'n_neighbors': 8}\n",
      "0.356 (+/-0.038) for {'n_neighbors': 9}\n",
      "\n",
      "Detailed classification report for the best parameter set:\n",
      "\n",
      "The model is trained on the full train set.\n",
      "The scores are computed on the full test set.\n",
      "\n",
      "              precision    recall  f1-score   support\n",
      "\n",
      "           0       0.37      0.45      0.41       152\n",
      "           1       0.52      0.44      0.48       173\n",
      "           2       0.50      0.49      0.49       171\n",
      "\n",
      "    accuracy                           0.46       496\n",
      "   macro avg       0.46      0.46      0.46       496\n",
      "weighted avg       0.47      0.46      0.46       496\n",
      "\n",
      "\n",
      "Decision Tree\t - score: 83.48%\n",
      "Perceptron\t - score: 21.02%\n",
      "KNN\t - score: 43.13%\n",
      "{'dt': {'max_depth': 6, 'random_state': 42}, 'lp': {'early_stopping': True, 'random_state': 42}, 'knn': {'n_neighbors': 1}}\n"
     ]
    }
   ],
   "source": [
    "result_short = {}\n",
    "best_params = {}\n",
    "\n",
    "from sklearn.model_selection import GridSearchCV\n",
    "\n",
    "for m in model_lbls:\n",
    "    print('='*80)\n",
    "    print(f'Grid search for {models[m][\"name\"]}')\n",
    "    clf = GridSearchCV(models[m]['model'], models[m]['params'], cv=5, scoring='%s_macro'%score)\n",
    "    clf.fit(X_train, y_train)\n",
    "    print_results(clf)\n",
    "    result_short[m] = clf.best_score_\n",
    "    best_params[m] = clf.best_params_\n",
    "\n",
    "for m in result_short.keys():\n",
    "    print(\"{}\\t - score: {:5.2f}%\".format(models[m]['name'], result_short[m]*100))\n",
    "\n",
    "print(best_params)\n"
   ]
  },
  {
   "attachments": {},
   "cell_type": "markdown",
   "metadata": {},
   "source": [
    "# 6"
   ]
  },
  {
   "cell_type": "code",
   "execution_count": 15,
   "metadata": {},
   "outputs": [],
   "source": [
    "dt = DecisionTreeClassifier(max_depth=best_params['dt']['max_depth'], random_state=random_state)\n",
    "lp = Perceptron(early_stopping=best_params['lp']['early_stopping'], random_state=random_state)\n",
    "knn = KNeighborsClassifier(n_neighbors=best_params['knn']['n_neighbors'])"
   ]
  },
  {
   "cell_type": "code",
   "execution_count": 16,
   "metadata": {},
   "outputs": [],
   "source": [
    "dt.fit(X_train, y_train);\n",
    "lp.fit(X_train, y_train);\n",
    "knn.fit(X_train, y_train);"
   ]
  },
  {
   "cell_type": "code",
   "execution_count": 17,
   "metadata": {},
   "outputs": [],
   "source": [
    "dt_pred_test = dt.predict(X_test)\n",
    "lp_pred_test = lp.predict(X_test)\n",
    "knn_pred_test = knn.predict(X_test)\n",
    "\n",
    "dt_test_acc = accuracy_score(y_test, dt_pred_test)*100\n",
    "lp_test_acc = accuracy_score(y_test, lp_pred_test)*100\n",
    "knn_test_acc = accuracy_score(y_test, knn_pred_test)*100"
   ]
  },
  {
   "cell_type": "code",
   "execution_count": 18,
   "metadata": {},
   "outputs": [
    {
     "data": {
      "text/html": [
       "<div>\n",
       "<style scoped>\n",
       "    .dataframe tbody tr th:only-of-type {\n",
       "        vertical-align: middle;\n",
       "    }\n",
       "\n",
       "    .dataframe tbody tr th {\n",
       "        vertical-align: top;\n",
       "    }\n",
       "\n",
       "    .dataframe thead th {\n",
       "        text-align: right;\n",
       "    }\n",
       "</style>\n",
       "<table border=\"1\" class=\"dataframe\">\n",
       "  <thead>\n",
       "    <tr style=\"text-align: right;\">\n",
       "      <th></th>\n",
       "      <th>Decision Tree</th>\n",
       "      <th>Perceptron</th>\n",
       "      <th>KNN</th>\n",
       "    </tr>\n",
       "  </thead>\n",
       "  <tbody>\n",
       "    <tr>\n",
       "      <th>Test</th>\n",
       "      <td>81.25</td>\n",
       "      <td>34.677419</td>\n",
       "      <td>45.766129</td>\n",
       "    </tr>\n",
       "  </tbody>\n",
       "</table>\n",
       "</div>"
      ],
      "text/plain": [
       "      Decision Tree  Perceptron        KNN\n",
       "Test          81.25   34.677419  45.766129"
      ]
     },
     "execution_count": 18,
     "metadata": {},
     "output_type": "execute_result"
    }
   ],
   "source": [
    "result = pd.DataFrame({\n",
    "    'Decision Tree': [dt_test_acc],\n",
    "    'Perceptron': [lp_test_acc],\n",
    "    'KNN': [knn_test_acc]\n",
    "}, index=['Test'])\n",
    "result"
   ]
  },
  {
   "cell_type": "code",
   "execution_count": 20,
   "metadata": {},
   "outputs": [],
   "source": [
    "dt_cm = confusion_matrix(y_test, dt_pred_test)\n",
    "lp_cm = confusion_matrix(y_test, lp_pred_test)\n",
    "knn_cm = confusion_matrix(y_test, knn_pred_test)"
   ]
  },
  {
   "cell_type": "code",
   "execution_count": 22,
   "metadata": {},
   "outputs": [
    {
     "name": "stdout",
     "output_type": "stream",
     "text": [
      "Decision Tree\n",
      "[[113  18  21]\n",
      " [ 22 134  17]\n",
      " [  9   6 156]]\n"
     ]
    }
   ],
   "source": [
    "print('Decision Tree')\n",
    "print(dt_cm)"
   ]
  },
  {
   "cell_type": "code",
   "execution_count": 23,
   "metadata": {},
   "outputs": [
    {
     "name": "stdout",
     "output_type": "stream",
     "text": [
      "Perceptron\n",
      "[[  1   0 151]\n",
      " [  0   0 173]\n",
      " [  0   0 171]]\n"
     ]
    }
   ],
   "source": [
    "print('Perceptron')\n",
    "print(lp_cm)"
   ]
  },
  {
   "cell_type": "code",
   "execution_count": 24,
   "metadata": {},
   "outputs": [
    {
     "name": "stdout",
     "output_type": "stream",
     "text": [
      "KNN\n",
      "[[68 36 48]\n",
      " [61 76 36]\n",
      " [54 34 83]]\n"
     ]
    }
   ],
   "source": [
    "print('KNN')\n",
    "print(knn_cm)"
   ]
  },
  {
   "attachments": {},
   "cell_type": "markdown",
   "metadata": {},
   "source": [
    "# 8"
   ]
  },
  {
   "cell_type": "code",
   "execution_count": 25,
   "metadata": {},
   "outputs": [
    {
     "data": {
      "image/png": "[encoded data removed]",
      "text/plain": [
       "<Figure size 1000x500 with 1 Axes>"
      ]
     },
     "metadata": {},
     "output_type": "display_data"
    }
   ],
   "source": [
    "class_list = ['Decision Tree', 'Perceptron', 'KNN']\n",
    "class_res = [dt_test_acc, lp_test_acc, knn_test_acc]\n",
    "\n",
    "plt.figure(figsize=(10, 5))\n",
    "plt.bar(class_list, class_res)\n",
    "plt.title('Accuracy of the models')\n",
    "plt.xlabel('Models')\n",
    "plt.ylabel('Accuracy')\n",
    "plt.show()"
   ]
  }
 ],
 "metadata": {
  "kernelspec": {
   "display_name": "Python 3",
   "language": "python",
   "name": "python3"
  },
  "language_info": {
   "codemirror_mode": {
    "name": "ipython",
    "version": 3
   },
   "file_extension": ".py",
   "mimetype": "text/x-python",
   "name": "python",
   "nbconvert_exporter": "python",
   "pygments_lexer": "ipython3",
   "version": "3.10.6"
  },
  "orig_nbformat": 4,
  "vscode": {
   "interpreter": {
    "hash": "916dbcbb3f70747c44a77c7bcd40155683ae19c65e1c03b4aa3499c5328201f1"
   }
  }
 },
 "nbformat": 4,
 "nbformat_minor": 2
}
